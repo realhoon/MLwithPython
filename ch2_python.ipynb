{
 "cells": [
  {
   "cell_type": "code",
   "execution_count": 1,
   "id": "a111dab9",
   "metadata": {},
   "outputs": [],
   "source": [
    "a = [10, 20, 30, 40, 50]"
   ]
  },
  {
   "cell_type": "code",
   "execution_count": 3,
   "id": "d16ce878",
   "metadata": {},
   "outputs": [
    {
     "name": "stdout",
     "output_type": "stream",
     "text": [
      "a[0] =  10 , a[2] =  30 , a[4] =  50\n",
      "a[-1] =  50 , a[-2] =  40 , a[-5] =  10\n"
     ]
    }
   ],
   "source": [
    "print('a[0] = ', a[0], ', a[2] = ', a[2], ', a[4] = ', a[4])\n",
    "print('a[-1] = ', a[-1], ', a[-2] = ', a[-2], ', a[-5] = ', a[-5])"
   ]
  },
  {
   "cell_type": "code",
   "execution_count": 5,
   "id": "38029970",
   "metadata": {},
   "outputs": [
    {
     "name": "stdout",
     "output_type": "stream",
     "text": [
      "b =  [100, 200, 300]\n"
     ]
    }
   ],
   "source": [
    "b = []\n",
    "b.append(100), b.append(200), b.append(300)\n",
    "print('b = ', b)"
   ]
  },
  {
   "cell_type": "code",
   "execution_count": 6,
   "id": "4ae277a2",
   "metadata": {},
   "outputs": [
    {
     "name": "stdout",
     "output_type": "stream",
     "text": [
      "c[0:2] =  [10, 20] , c[1:] =  [20, 30, 40, 50]\n",
      "c[:3] =  [10, 20, 30] , c[:-2] =  [10, 20, 30]\n",
      "c[:] =  [10, 20, 30, 40, 50]\n"
     ]
    }
   ],
   "source": [
    "c = [10, 20, 30, 40, 50]\n",
    "\n",
    "print('c[0:2] = ', c[0:2], ', c[1:] = ', c[1:])\n",
    "print('c[:3] = ', c[:3], ', c[:-2] = ', c[:-2])\n",
    "print('c[:] = ', c[:])"
   ]
  },
  {
   "cell_type": "code",
   "execution_count": 7,
   "id": "41f3bcd1",
   "metadata": {},
   "outputs": [
    {
     "name": "stdout",
     "output_type": "stream",
     "text": [
      "a[0] =  10 , a[-2] =  40\n",
      "a[0:2] = (10, 20) , a[1:] = (20, 30, 40, 50) , a[:] = (10, 20, 30, 40, 50)\n"
     ]
    }
   ],
   "source": [
    "a = (10, 20, 30, 40, 50)\n",
    "\n",
    "print('a[0] = ', a[0], ', a[-2] = ', a[-2])\n",
    "print('a[0:2] =', a[0:2], ', a[1:] =', a[1:], ', a[:] =', a[:])"
   ]
  },
  {
   "cell_type": "code",
   "execution_count": 8,
   "id": "0fed6c5f",
   "metadata": {},
   "outputs": [
    {
     "ename": "TypeError",
     "evalue": "'tuple' object does not support item assignment",
     "output_type": "error",
     "traceback": [
      "\u001b[0;31m---------------------------------------------------------------------------\u001b[0m",
      "\u001b[0;31mTypeError\u001b[0m                                 Traceback (most recent call last)",
      "Cell \u001b[0;32mIn[8], line 1\u001b[0m\n\u001b[0;32m----> 1\u001b[0m a[\u001b[38;5;241m0\u001b[39m] \u001b[38;5;241m=\u001b[39m \u001b[38;5;241m100\u001b[39m\n",
      "\u001b[0;31mTypeError\u001b[0m: 'tuple' object does not support item assignment"
     ]
    }
   ],
   "source": [
    "a[0] = 100"
   ]
  },
  {
   "cell_type": "code",
   "execution_count": 10,
   "id": "df239c86",
   "metadata": {},
   "outputs": [
    {
     "name": "stdout",
     "output_type": "stream",
     "text": [
      "{'KIM': 90, 'LEE': 85, 'JUN': 95}\n",
      "score['KIM'] =  90\n"
     ]
    }
   ],
   "source": [
    "score = {'KIM' : 90, 'LEE' : 85, 'JUN' : 95}\n",
    "print(score)\n",
    "print(\"score['KIM'] = \", score['KIM'])"
   ]
  },
  {
   "cell_type": "code",
   "execution_count": 11,
   "id": "5962135d",
   "metadata": {},
   "outputs": [
    {
     "name": "stdout",
     "output_type": "stream",
     "text": [
      "dict_keys(['KIM', 'LEE', 'JUN'])\n",
      "dict_values([90, 85, 95])\n",
      "dict_items([('KIM', 90), ('LEE', 85), ('JUN', 95)])\n"
     ]
    }
   ],
   "source": [
    "print(score.keys())\n",
    "print(score.values())\n",
    "print(score.items())"
   ]
  },
  {
   "cell_type": "code",
   "execution_count": 12,
   "id": "a68bff28",
   "metadata": {},
   "outputs": [
    {
     "name": "stdout",
     "output_type": "stream",
     "text": [
      "<class 'list'> <class 'tuple'> <class 'dict'> <class 'list'>\n",
      "5 5 2 3\n"
     ]
    }
   ],
   "source": [
    "a = [10, 20, 30, 40, 50]\n",
    "b = (10, 20, 30, 40, 50)\n",
    "c = {'KIM' : 90, 'LEE' : 80 }\n",
    "d = [ [100, 200], [300, 400], [500, 600]]\n",
    "\n",
    "print(type(a), type(b), type(c), type(d))\n",
    "print(len(a), len(b), len(c), len(d))"
   ]
  },
  {
   "cell_type": "code",
   "execution_count": 13,
   "id": "2d047f36",
   "metadata": {},
   "outputs": [
    {
     "name": "stdout",
     "output_type": "stream",
     "text": [
      "a == 1\n",
      "positive number\n"
     ]
    }
   ],
   "source": [
    "a = 1\n",
    "if a > 0 :\n",
    "    print(\"a ==\", a)\n",
    "    print(\"positive number\")\n",
    "\n",
    "elif a == 0 :\n",
    "    print(\"a ==\", a)\n",
    "    print(\"zero\")\n",
    "\n",
    "else :\n",
    "    print(\"a ==\", a)\n",
    "    print(\"negative number\")"
   ]
  },
  {
   "cell_type": "code",
   "execution_count": 14,
   "id": "9cbeba15",
   "metadata": {},
   "outputs": [
    {
     "name": "stdout",
     "output_type": "stream",
     "text": [
      "45 is not in list_data\n",
      "key1 is in dict_data\n"
     ]
    }
   ],
   "source": [
    "list_data = [10, 20, 30, 40, 50]\n",
    "dict_data = {'key1' : 1, 'key2' : 2}\n",
    "\n",
    "if 45 in list_data :\n",
    "    print(\"45 is in list_data\")\n",
    "\n",
    "else :\n",
    "    print(\"45 is not in list_data\")\n",
    "    \n",
    "if 'key1' in dict_data : \n",
    "    print(\"key1 is in dict_data\")\n",
    "    \n",
    "else : \n",
    "    print(\"key1 is not in dict_data\")"
   ]
  },
  {
   "cell_type": "code",
   "execution_count": 15,
   "id": "0b9e9947",
   "metadata": {},
   "outputs": [
    {
     "name": "stdout",
     "output_type": "stream",
     "text": [
      "0  1  2  3  4  5  6  7  8  9  "
     ]
    }
   ],
   "source": [
    "for data in range(10) : \n",
    "    print(data, \" \", end='')"
   ]
  },
  {
   "cell_type": "code",
   "execution_count": 16,
   "id": "a46b0a3b",
   "metadata": {},
   "outputs": [
    {
     "name": "stdout",
     "output_type": "stream",
     "text": [
      "0  1  2  3  4  5  6  7  8  9  "
     ]
    }
   ],
   "source": [
    "for data in range(0, 10) :\n",
    "    print(data, \" \", end='')"
   ]
  },
  {
   "cell_type": "code",
   "execution_count": 17,
   "id": "07f740fc",
   "metadata": {},
   "outputs": [
    {
     "name": "stdout",
     "output_type": "stream",
     "text": [
      "0  2  4  6  8  "
     ]
    }
   ],
   "source": [
    "for data in range(0, 10, 2) :\n",
    "    print(data, \" \", end='')"
   ]
  },
  {
   "cell_type": "code",
   "execution_count": 18,
   "id": "d4e710e6",
   "metadata": {},
   "outputs": [
    {
     "name": "stdout",
     "output_type": "stream",
     "text": [
      "10  20  30  40  50  "
     ]
    }
   ],
   "source": [
    "list_data = [10, 20, 30, 40, 50]\n",
    "\n",
    "for data in list_data :\n",
    "    print(data, \" \", end='')"
   ]
  },
  {
   "cell_type": "code",
   "execution_count": 29,
   "id": "76a693a2",
   "metadata": {},
   "outputs": [
    {
     "name": "stdout",
     "output_type": "stream",
     "text": [
      "key1  key2  \n",
      "\n",
      "key1   1\n",
      "key2   2\n"
     ]
    }
   ],
   "source": [
    "dict_data = {'key1' : 1, 'key2' : 2}\n",
    "\n",
    "for data in dict_data : \n",
    "    print(data, \" \", end='')\n",
    "print()\n",
    "print()\n",
    "for key, value in dict_data.items() :\n",
    "    print(key, \" \", value)"
   ]
  },
  {
   "cell_type": "code",
   "execution_count": 30,
   "id": "690e4e5d",
   "metadata": {},
   "outputs": [
    {
     "name": "stdout",
     "output_type": "stream",
     "text": [
      "[0, 1, 4, 9, 16]\n"
     ]
    }
   ],
   "source": [
    "list_data = [x**2 for x in range(5)]\n",
    "print(list_data)"
   ]
  },
  {
   "cell_type": "code",
   "execution_count": 32,
   "id": "d4147429",
   "metadata": {},
   "outputs": [
    {
     "name": "stdout",
     "output_type": "stream",
     "text": [
      "all_data == [[1, 10], [2, 15], [3, 30], [4, 55]]\n",
      "x_data == [1, 2, 3, 4]\n",
      "y_data == [10, 15, 30, 55]\n"
     ]
    }
   ],
   "source": [
    "raw_data = [ [1, 10], [2, 15], [3, 30], [4, 55] ] \n",
    "\n",
    "all_data = [ x for x in raw_data ]\n",
    "x_data = [ x[0] for x in raw_data ]\n",
    "y_data = [ x[1] for x in raw_data ]\n",
    "\n",
    "print(\"all_data ==\", all_data)\n",
    "print(\"x_data ==\", x_data)\n",
    "print(\"y_data ==\", y_data)"
   ]
  },
  {
   "cell_type": "code",
   "execution_count": 33,
   "id": "a1465a15",
   "metadata": {},
   "outputs": [
    {
     "name": "stdout",
     "output_type": "stream",
     "text": [
      "30\n"
     ]
    }
   ],
   "source": [
    "def sum(x, y) : \n",
    "    s = x + y\n",
    "    return s\n",
    "\n",
    "result = sum(10, 20)\n",
    "print(result)"
   ]
  },
  {
   "cell_type": "code",
   "execution_count": 34,
   "id": "3531d385",
   "metadata": {},
   "outputs": [
    {
     "name": "stdout",
     "output_type": "stream",
     "text": [
      "101 102 103\n"
     ]
    }
   ],
   "source": [
    "def multi_ret_func(x) : \n",
    "    return x+1, x+2, x+3\n",
    "\n",
    "x = 100\n",
    "y1, y2, y3 = multi_ret_func(x)\n",
    "print(y1, y2, y3)"
   ]
  },
  {
   "cell_type": "code",
   "execution_count": 35,
   "id": "ca41fb96",
   "metadata": {},
   "outputs": [
    {
     "name": "stdout",
     "output_type": "stream",
     "text": [
      "name == DAVE\n",
      "name == DAVE\n"
     ]
    }
   ],
   "source": [
    "def print_name(name, count=2) :\n",
    "    for i in range(count) :\n",
    "        print(\"name ==\", name)\n",
    "\n",
    "print_name(\"DAVE\")"
   ]
  },
  {
   "cell_type": "code",
   "execution_count": 36,
   "id": "ecda919f",
   "metadata": {},
   "outputs": [
    {
     "name": "stdout",
     "output_type": "stream",
     "text": [
      "x == 1 , test_list == [1, 2, 3, 100]\n"
     ]
    }
   ],
   "source": [
    "def mutable_immutable_func(int_x, input_list) : \n",
    "    int_x += 1\n",
    "    input_list.append(100)\n",
    "\n",
    "x = 1\n",
    "test_list = [1, 2, 3]\n",
    "mutable_immutable_func(x, test_list)\n",
    "print(\"x ==\", x, \", test_list ==\", test_list)\n"
   ]
  },
  {
   "cell_type": "code",
   "execution_count": 37,
   "id": "7e88371d",
   "metadata": {},
   "outputs": [
    {
     "name": "stdout",
     "output_type": "stream",
     "text": [
      "100\n",
      "101\n",
      "102\n"
     ]
    }
   ],
   "source": [
    "f = lambda x : x+100\n",
    "\n",
    "for i in range(3) :\n",
    "    print(f(i))"
   ]
  },
  {
   "cell_type": "code",
   "execution_count": 39,
   "id": "1d8be455",
   "metadata": {},
   "outputs": [
    {
     "name": "stdout",
     "output_type": "stream",
     "text": [
      "PARK is initialized\n",
      "PARK is working in ABCDEF\n",
      "PARK is sleeping\n"
     ]
    }
   ],
   "source": [
    "class Person :\n",
    "    def __init__(self, name) :\n",
    "        self.name = name\n",
    "        print(self.name + \" is initialized\")\n",
    "    \n",
    "    def work(self, company) :\n",
    "        print(self.name + \" is working in \" + company)\n",
    "    \n",
    "    def sleep(self) : \n",
    "        print(self.name + \" is sleeping\")\n",
    "        \n",
    "obj = Person(\"PARK\")\n",
    "obj.work(\"ABCDEF\")\n",
    "obj.sleep()"
   ]
  },
  {
   "cell_type": "code",
   "execution_count": null,
   "id": "37ea3f3d",
   "metadata": {},
   "outputs": [],
   "source": []
  },
  {
   "cell_type": "code",
   "execution_count": null,
   "id": "65f3cabc",
   "metadata": {},
   "outputs": [],
   "source": []
  },
  {
   "cell_type": "code",
   "execution_count": null,
   "id": "f8efbe6a",
   "metadata": {},
   "outputs": [],
   "source": []
  },
  {
   "cell_type": "code",
   "execution_count": null,
   "id": "4806ff87",
   "metadata": {},
   "outputs": [],
   "source": []
  },
  {
   "cell_type": "code",
   "execution_count": null,
   "id": "80175d54",
   "metadata": {},
   "outputs": [],
   "source": []
  }
 ],
 "metadata": {
  "kernelspec": {
   "display_name": "Python 3 (ipykernel)",
   "language": "python",
   "name": "python3"
  },
  "language_info": {
   "codemirror_mode": {
    "name": "ipython",
    "version": 3
   },
   "file_extension": ".py",
   "mimetype": "text/x-python",
   "name": "python",
   "nbconvert_exporter": "python",
   "pygments_lexer": "ipython3",
   "version": "3.11.4"
  }
 },
 "nbformat": 4,
 "nbformat_minor": 5
}
